{
 "cells": [
  {
   "cell_type": "code",
   "execution_count": 1,
   "metadata": {},
   "outputs": [],
   "source": [
    "import snscrape.modules.twitter as sntwitter\n",
    "import pandas as pd"
   ]
  },
  {
   "cell_type": "code",
   "execution_count": 2,
   "metadata": {},
   "outputs": [],
   "source": [
    "# function for scraping tweets by username and adding to a list\n",
    "\n",
    "def get_tweets(username):\n",
    "    \n",
    "    usernameV = \"from:\"+username\n",
    "    \n",
    "    for i,tweet in enumerate(sntwitter.TwitterSearchScraper(usernameV).get_items()): #declaring a username \n",
    "        if i>5000: #get the latest 5000 tweets from this user\n",
    "            break\n",
    "        tweets_list.append([tweet.user.username, tweet.content, tweet.likeCount, tweet.retweetCount, tweet.replyCount]) #"
   ]
  },
  {
   "cell_type": "markdown",
   "metadata": {},
   "source": [
    "#### Why scrape by username?"
   ]
  },
  {
   "cell_type": "markdown",
   "metadata": {},
   "source": [
    "Scraping tweets by username is the best way to ensure that we are scraping tweets made by REAL companies in the Caribbean.\n",
    "These are twitter accounts that we have researched and found to be actual company accounts."
   ]
  },
  {
   "cell_type": "code",
   "execution_count": 3,
   "metadata": {},
   "outputs": [],
   "source": [
    "# create list that will hold all the data\n",
    "tweets_list = []\n",
    "\n",
    "get_tweets(\"iflycaribbean\")\n",
    "get_tweets(\"cpl\")\n",
    "get_tweets(\"caribbeanun\")\n",
    "get_tweets(\"royalcaribbean\")\n",
    "get_tweets(\"caribexplores\")\n",
    "get_tweets(\"scotiabankjm\")\n",
    "get_tweets(\"tttliveonline\")\n",
    "get_tweets(\"dominospizzatt\")\n",
    "get_tweets(\"espn_caribbean\")\n",
    "get_tweets(\"flowsportsapp\")\n",
    "get_tweets(\"digiceljamaica\")\n",
    "get_tweets(\"digiceltt\")\n",
    "get_tweets(\"digicelbarbados\")\n",
    "get_tweets(\"digicelguyana\")\n",
    "get_tweets(\"hbomaxcaribbean\")\n",
    "get_tweets(\"guardiantt\")\n",
    "get_tweets(\"loopnewstt\")\n",
    "get_tweets(\"kfctnt\")\n",
    "get_tweets(\"kfcjamaica\")\n",
    "get_tweets(\"massystorestt\")\n",
    "get_tweets(\"tv6tnt\")\n",
    "get_tweets(\"newsday_tt\")\n",
    "get_tweets(\"caribbusiness\")\n",
    "get_tweets(\"pahocaribbean\")\n",
    "get_tweets(\"caribjournal\")\n",
    "get_tweets(\"boomchampionstt\")\n",
    "get_tweets(\"91wefm\")\n",
    "get_tweets(\"mymarios\")\n",
    "get_tweets(\"wired868\")\n",
    "get_tweets(\"bmobiletweet\")\n",
    "get_tweets(\"bookscaribbean\")\n",
    "get_tweets(\"exploretrinidad\")\n",
    "get_tweets(\"tourismtt\")\n",
    "\n",
    "#create dataframe with list data\n",
    "tweets_df = pd.DataFrame(tweets_list, columns=['Username', 'Content', 'No. of likes', 'No. of retweets', 'No. of replies'])"
   ]
  },
  {
   "cell_type": "code",
   "execution_count": 4,
   "metadata": {},
   "outputs": [
    {
     "data": {
      "text/html": [
       "<div>\n",
       "<style scoped>\n",
       "    .dataframe tbody tr th:only-of-type {\n",
       "        vertical-align: middle;\n",
       "    }\n",
       "\n",
       "    .dataframe tbody tr th {\n",
       "        vertical-align: top;\n",
       "    }\n",
       "\n",
       "    .dataframe thead th {\n",
       "        text-align: right;\n",
       "    }\n",
       "</style>\n",
       "<table border=\"1\" class=\"dataframe\">\n",
       "  <thead>\n",
       "    <tr style=\"text-align: right;\">\n",
       "      <th></th>\n",
       "      <th>Username</th>\n",
       "      <th>Content</th>\n",
       "      <th>No. of likes</th>\n",
       "      <th>No. of retweets</th>\n",
       "      <th>No. of replies</th>\n",
       "    </tr>\n",
       "  </thead>\n",
       "  <tbody>\n",
       "    <tr>\n",
       "      <th>0</th>\n",
       "      <td>iflycaribbean</td>\n",
       "      <td>REthink your meal choice with our Pre-Order op...</td>\n",
       "      <td>0</td>\n",
       "      <td>0</td>\n",
       "      <td>0</td>\n",
       "    </tr>\n",
       "    <tr>\n",
       "      <th>1</th>\n",
       "      <td>iflycaribbean</td>\n",
       "      <td>Did you know Barbados is referred to as 'land ...</td>\n",
       "      <td>5</td>\n",
       "      <td>0</td>\n",
       "      <td>0</td>\n",
       "    </tr>\n",
       "    <tr>\n",
       "      <th>2</th>\n",
       "      <td>iflycaribbean</td>\n",
       "      <td>Did you know that the Caribbean’s largest bota...</td>\n",
       "      <td>5</td>\n",
       "      <td>1</td>\n",
       "      <td>1</td>\n",
       "    </tr>\n",
       "    <tr>\n",
       "      <th>3</th>\n",
       "      <td>iflycaribbean</td>\n",
       "      <td>@tntxxl23 👏👏👏 Hope you'll join us from up here...</td>\n",
       "      <td>0</td>\n",
       "      <td>0</td>\n",
       "      <td>1</td>\n",
       "    </tr>\n",
       "    <tr>\n",
       "      <th>4</th>\n",
       "      <td>iflycaribbean</td>\n",
       "      <td>@ldowrich @KevanGibbsTT @khamal @annaramdass H...</td>\n",
       "      <td>1</td>\n",
       "      <td>0</td>\n",
       "      <td>0</td>\n",
       "    </tr>\n",
       "  </tbody>\n",
       "</table>\n",
       "</div>"
      ],
      "text/plain": [
       "        Username                                            Content  \\\n",
       "0  iflycaribbean  REthink your meal choice with our Pre-Order op...   \n",
       "1  iflycaribbean  Did you know Barbados is referred to as 'land ...   \n",
       "2  iflycaribbean  Did you know that the Caribbean’s largest bota...   \n",
       "3  iflycaribbean  @tntxxl23 👏👏👏 Hope you'll join us from up here...   \n",
       "4  iflycaribbean  @ldowrich @KevanGibbsTT @khamal @annaramdass H...   \n",
       "\n",
       "   No. of likes  No. of retweets  No. of replies  \n",
       "0             0                0               0  \n",
       "1             5                0               0  \n",
       "2             5                1               1  \n",
       "3             0                0               1  \n",
       "4             1                0               0  "
      ]
     },
     "execution_count": 4,
     "metadata": {},
     "output_type": "execute_result"
    }
   ],
   "source": [
    "tweets_df.head()"
   ]
  },
  {
   "cell_type": "code",
   "execution_count": 5,
   "metadata": {},
   "outputs": [
    {
     "data": {
      "text/html": [
       "<div>\n",
       "<style scoped>\n",
       "    .dataframe tbody tr th:only-of-type {\n",
       "        vertical-align: middle;\n",
       "    }\n",
       "\n",
       "    .dataframe tbody tr th {\n",
       "        vertical-align: top;\n",
       "    }\n",
       "\n",
       "    .dataframe thead th {\n",
       "        text-align: right;\n",
       "    }\n",
       "</style>\n",
       "<table border=\"1\" class=\"dataframe\">\n",
       "  <thead>\n",
       "    <tr style=\"text-align: right;\">\n",
       "      <th></th>\n",
       "      <th>Username</th>\n",
       "      <th>Content</th>\n",
       "      <th>No. of likes</th>\n",
       "      <th>No. of retweets</th>\n",
       "      <th>No. of replies</th>\n",
       "    </tr>\n",
       "  </thead>\n",
       "  <tbody>\n",
       "    <tr>\n",
       "      <th>136113</th>\n",
       "      <td>TourismTT</td>\n",
       "      <td>\"A journey of a thousand miles must begin with...</td>\n",
       "      <td>1</td>\n",
       "      <td>0</td>\n",
       "      <td>0</td>\n",
       "    </tr>\n",
       "    <tr>\n",
       "      <th>136114</th>\n",
       "      <td>TourismTT</td>\n",
       "      <td>Tourism Minister Stephen Cadiz is being interv...</td>\n",
       "      <td>0</td>\n",
       "      <td>2</td>\n",
       "      <td>0</td>\n",
       "    </tr>\n",
       "    <tr>\n",
       "      <th>136115</th>\n",
       "      <td>TourismTT</td>\n",
       "      <td>@JetSettingSarah @gotrinbago @CaribbeanTrav @o...</td>\n",
       "      <td>0</td>\n",
       "      <td>0</td>\n",
       "      <td>0</td>\n",
       "    </tr>\n",
       "    <tr>\n",
       "      <th>136116</th>\n",
       "      <td>TourismTT</td>\n",
       "      <td>Minister of Tourism Stephen Cadiz will be on @...</td>\n",
       "      <td>0</td>\n",
       "      <td>1</td>\n",
       "      <td>0</td>\n",
       "    </tr>\n",
       "    <tr>\n",
       "      <th>136117</th>\n",
       "      <td>TourismTT</td>\n",
       "      <td>The Ministry of Tourism is set to host the Ann...</td>\n",
       "      <td>0</td>\n",
       "      <td>0</td>\n",
       "      <td>0</td>\n",
       "    </tr>\n",
       "  </tbody>\n",
       "</table>\n",
       "</div>"
      ],
      "text/plain": [
       "         Username                                            Content  \\\n",
       "136113  TourismTT  \"A journey of a thousand miles must begin with...   \n",
       "136114  TourismTT  Tourism Minister Stephen Cadiz is being interv...   \n",
       "136115  TourismTT  @JetSettingSarah @gotrinbago @CaribbeanTrav @o...   \n",
       "136116  TourismTT  Minister of Tourism Stephen Cadiz will be on @...   \n",
       "136117  TourismTT  The Ministry of Tourism is set to host the Ann...   \n",
       "\n",
       "        No. of likes  No. of retweets  No. of replies  \n",
       "136113             1                0               0  \n",
       "136114             0                2               0  \n",
       "136115             0                0               0  \n",
       "136116             0                1               0  \n",
       "136117             0                0               0  "
      ]
     },
     "execution_count": 5,
     "metadata": {},
     "output_type": "execute_result"
    }
   ],
   "source": [
    "tweets_df.tail()"
   ]
  },
  {
   "cell_type": "code",
   "execution_count": 6,
   "metadata": {},
   "outputs": [
    {
     "name": "stdout",
     "output_type": "stream",
     "text": [
      "<class 'pandas.core.frame.DataFrame'>\n",
      "RangeIndex: 136118 entries, 0 to 136117\n",
      "Data columns (total 5 columns):\n",
      " #   Column           Non-Null Count   Dtype \n",
      "---  ------           --------------   ----- \n",
      " 0   Username         136118 non-null  object\n",
      " 1   Content          136118 non-null  object\n",
      " 2   No. of likes     136118 non-null  int64 \n",
      " 3   No. of retweets  136118 non-null  int64 \n",
      " 4   No. of replies   136118 non-null  int64 \n",
      "dtypes: int64(3), object(2)\n",
      "memory usage: 5.2+ MB\n"
     ]
    }
   ],
   "source": [
    "tweets_df.info()"
   ]
  },
  {
   "cell_type": "code",
   "execution_count": null,
   "metadata": {},
   "outputs": [],
   "source": []
  }
 ],
 "metadata": {
  "kernelspec": {
   "display_name": "Python 3",
   "language": "python",
   "name": "python3"
  },
  "language_info": {
   "codemirror_mode": {
    "name": "ipython",
    "version": 3
   },
   "file_extension": ".py",
   "mimetype": "text/x-python",
   "name": "python",
   "nbconvert_exporter": "python",
   "pygments_lexer": "ipython3",
   "version": "3.8.3"
  }
 },
 "nbformat": 4,
 "nbformat_minor": 4
}
